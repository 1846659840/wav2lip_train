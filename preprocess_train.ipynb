{
 "cells": [
  {
   "cell_type": "code",
   "execution_count": 3,
   "metadata": {
    "collapsed": true
   },
   "outputs": [
    {
     "name": "stdout",
     "output_type": "stream",
     "text": [
      "['./data/original_data\\\\1.mp4', './data/original_data\\\\2.mp4', './data/original_data\\\\3.mp4', './data/original_data\\\\4.mp4', './data/original_data\\\\5.mp4']\n",
      "0\n",
      "1\n",
      "2\n",
      "3\n",
      "4\n"
     ]
    }
   ],
   "source": [
    "from glob import glob\n",
    "import shutil,os\n",
    "result = list(glob(\"./data/original_data/*\"))\n",
    "print(result)\n",
    "result_list = []\n",
    "for i,dirpath in enumerate(result):\n",
    "    shutil.move(dirpath,\"./data/preprocessed_root/\".format(i))\n",
    "    result_list.append(\"{}\".format(i))\n",
    "print(\"\\n\".join(result_list))"
   ]
  }
 ],
 "metadata": {
  "kernelspec": {
   "display_name": "Python 3",
   "language": "python",
   "name": "python3"
  },
  "language_info": {
   "codemirror_mode": {
    "name": "ipython",
    "version": 2
   },
   "file_extension": ".py",
   "mimetype": "text/x-python",
   "name": "python",
   "nbconvert_exporter": "python",
   "pygments_lexer": "ipython2",
   "version": "2.7.6"
  }
 },
 "nbformat": 4,
 "nbformat_minor": 0
}